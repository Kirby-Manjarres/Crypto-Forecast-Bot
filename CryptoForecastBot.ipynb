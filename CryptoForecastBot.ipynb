{
  "nbformat": 4,
  "nbformat_minor": 0,
  "metadata": {
    "colab": {
      "provenance": []
    },
    "kernelspec": {
      "name": "python3",
      "display_name": "Python 3"
    },
    "language_info": {
      "name": "python"
    }
  },
  "cells": [
    {
      "cell_type": "code",
      "execution_count": 12,
      "metadata": {
        "id": "WW0ZPlzUG5xW"
      },
      "outputs": [],
      "source": [
        "# Install dependencies (run this in the first cell)\n",
        "!pip install yfinance prophet gradio --quiet\n"
      ]
    },
    {
      "cell_type": "code",
      "source": [
        "# Import libraries\n",
        "import yfinance as yf\n",
        "import pandas as pd\n",
        "from prophet import Prophet\n",
        "import gradio as gr\n",
        "from datetime import datetime\n",
        "import re"
      ],
      "metadata": {
        "id": "bz6oNCX8HkE0"
      },
      "execution_count": 13,
      "outputs": []
    },
    {
      "cell_type": "code",
      "source": [
        "# Initialize data stores\n",
        "data_store = {}\n",
        "forecast_store = {}\n",
        "fig_store = {}"
      ],
      "metadata": {
        "id": "Ih6rvdDjHoGB"
      },
      "execution_count": 14,
      "outputs": []
    },
    {
      "cell_type": "code",
      "source": [
        "# Fetch fresh data\n",
        "def refresh_data(symbol):\n",
        "    print(f\"Refreshing data for {symbol}...\")\n",
        "    df = yf.download(symbol, period=\"5y\")\n",
        "    df = df.reset_index()[['Date', 'Close']]\n",
        "    df.columns = ['ds', 'y']\n",
        "    df['ds'] = pd.to_datetime(df['ds']).dt.tz_localize(None)\n",
        "    print(f\"Retrieved {len(df)} records for {symbol}.\")\n",
        "    return df\n"
      ],
      "metadata": {
        "id": "xjegxQ57HqMq"
      },
      "execution_count": 15,
      "outputs": []
    },
    {
      "cell_type": "code",
      "source": [
        "# Forecast prices\n",
        "def forecast_prices(df, days=14):\n",
        "    model = Prophet()\n",
        "    model.fit(df)\n",
        "    future = model.make_future_dataframe(periods=days)\n",
        "    forecast = model.predict(future)\n",
        "    fig = model.plot(forecast)\n",
        "    return forecast, fig\n"
      ],
      "metadata": {
        "id": "FmFQv7TqHrW4"
      },
      "execution_count": 16,
      "outputs": []
    },
    {
      "cell_type": "code",
      "source": [
        "# Parse user input\n",
        "def parse_user_input(user_input):\n",
        "    user_input = user_input.lower()\n",
        "    if \"refresh\" in user_input:\n",
        "        coin = re.findall(r\"(btc|eth)\", user_input)\n",
        "        return \"refresh\", coin[0].upper() if coin else None, None\n",
        "    elif \"predict\" in user_input or \"forecast\" in user_input:\n",
        "        coin = re.findall(r\"(btc|eth)\", user_input)\n",
        "        days = re.findall(r\"(\\d+)\\s+day\", user_input)\n",
        "        return \"predict\", coin[0].upper() if coin else None, int(days[0]) if days else 7\n",
        "    elif \"plot\" in user_input or \"show\" in user_input or \"chart\" in user_input:\n",
        "        coin = re.findall(r\"(btc|eth)\", user_input)\n",
        "        return \"plot\", coin[0].upper() if coin else None, None\n",
        "    return None, None, None"
      ],
      "metadata": {
        "id": "P25zrxtvHubL"
      },
      "execution_count": 17,
      "outputs": []
    },
    {
      "cell_type": "code",
      "source": [
        "# Summarize forecast using only future data\n",
        "def summarize_forecast(forecast, history_end_date):\n",
        "    future_forecast = forecast[forecast['ds'] > history_end_date]\n",
        "    yhat = future_forecast['yhat']\n",
        "    min_price = yhat.min()\n",
        "    max_price = yhat.max()\n",
        "    avg_price = yhat.mean()\n",
        "\n",
        "    trend = \"stable\"\n",
        "    if yhat.iloc[-1] > yhat.iloc[0] * 1.02:\n",
        "        trend = \"upward\"\n",
        "    elif yhat.iloc[-1] < yhat.iloc[0] * 0.98:\n",
        "        trend = \"downward\"\n",
        "\n",
        "    summary = (\n",
        "        f\"The predicted price for the next {len(future_forecast)} days ranges from ${min_price:.2f} \"\n",
        "        f\"to ${max_price:.2f}, with an average around ${avg_price:.2f}. \"\n",
        "        f\"The overall trend appears to be {trend}.\"\n",
        "    )\n",
        "    return summary"
      ],
      "metadata": {
        "id": "1GQrNli1HxHH"
      },
      "execution_count": 18,
      "outputs": []
    },
    {
      "cell_type": "code",
      "source": [
        "# Handle user commands\n",
        "def handle_user_input(user_input):\n",
        "    command, coin, days = parse_user_input(user_input)\n",
        "\n",
        "    if command == \"refresh\" and coin:\n",
        "        full_coin = coin + \"-USD\"\n",
        "        try:\n",
        "            data_store[full_coin] = refresh_data(full_coin)\n",
        "            return f\"Data refreshed for {coin}.\"\n",
        "        except Exception as e:\n",
        "            return f\"Error refreshing data for {coin}: {e}\"\n",
        "\n",
        "    elif command == \"predict\" and coin:\n",
        "        full_coin = coin + \"-USD\"\n",
        "        try:\n",
        "            if full_coin not in data_store:\n",
        "                return f\"Data for {coin} not found. Please refresh it first.\"\n",
        "            forecast, fig = forecast_prices(data_store[full_coin], days)\n",
        "            forecast_store[full_coin] = forecast\n",
        "            fig_store[full_coin] = fig\n",
        "            history_end_date = data_store[full_coin]['ds'].max()\n",
        "            summary = summarize_forecast(forecast, history_end_date)\n",
        "            return f\"Forecast for {coin} for the next {days} days:\\n\\n{summary}\"\n",
        "        except Exception as e:\n",
        "            return f\"Error generating prediction for {coin}: {e}\"\n",
        "\n",
        "    elif command == \"plot\" and coin:\n",
        "        full_coin = coin + \"-USD\"\n",
        "        if full_coin in fig_store:\n",
        "            fig_store[full_coin].show()\n",
        "            return f\"Here is the forecast plot for {coin}.\"\n",
        "        else:\n",
        "            return f\"No forecast found for {coin}. Please run a prediction first.\"\n",
        "\n",
        "    else:\n",
        "        return (\n",
        "            \"Sorry, I didn’t understand. Try saying things like:\\n\"\n",
        "            \"- 'Refresh BTC'\\n\"\n",
        "            \"- 'Predict ETH for 10 days'\\n\"\n",
        "            \"- 'Show BTC chart'\"\n",
        "        )\n"
      ],
      "metadata": {
        "id": "0pFOu6LlIyrX"
      },
      "execution_count": 19,
      "outputs": []
    },
    {
      "cell_type": "code",
      "source": [
        "# Launch Gradio chatbot\n",
        "gr.Interface(\n",
        "    fn=handle_user_input,\n",
        "    inputs=\"text\",\n",
        "    outputs=\"text\",\n",
        "    title=\"🧠 Crypto Forecast Bot\",\n",
        "    description=\"Ask things like 'predict BTC for 7 days' or 'refresh ETH'\"\n",
        ").launch()\n"
      ],
      "metadata": {
        "colab": {
          "base_uri": "https://localhost:8080/",
          "height": 650
        },
        "id": "w28QvGQsI1uS",
        "outputId": "c2b9deda-9f04-4045-a39c-8a4a31e8d520"
      },
      "execution_count": 20,
      "outputs": [
        {
          "output_type": "stream",
          "name": "stdout",
          "text": [
            "It looks like you are running Gradio on a hosted a Jupyter notebook. For the Gradio app to work, sharing must be enabled. Automatically setting `share=True` (you can turn this off by setting `share=False` in `launch()` explicitly).\n",
            "\n",
            "Colab notebook detected. To show errors in colab notebook, set debug=True in launch()\n",
            "* Running on public URL: https://7033ad23a05cb2938c.gradio.live\n",
            "\n",
            "This share link expires in 1 week. For free permanent hosting and GPU upgrades, run `gradio deploy` from the terminal in the working directory to deploy to Hugging Face Spaces (https://huggingface.co/spaces)\n"
          ]
        },
        {
          "output_type": "display_data",
          "data": {
            "text/plain": [
              "<IPython.core.display.HTML object>"
            ],
            "text/html": [
              "<div><iframe src=\"https://7033ad23a05cb2938c.gradio.live\" width=\"100%\" height=\"500\" allow=\"autoplay; camera; microphone; clipboard-read; clipboard-write;\" frameborder=\"0\" allowfullscreen></iframe></div>"
            ]
          },
          "metadata": {}
        },
        {
          "output_type": "execute_result",
          "data": {
            "text/plain": []
          },
          "metadata": {},
          "execution_count": 20
        }
      ]
    }
  ]
}